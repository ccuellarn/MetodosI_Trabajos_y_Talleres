{
 "cells": [
  {
   "cell_type": "code",
   "execution_count": 3,
   "id": "8d516120",
   "metadata": {},
   "outputs": [],
   "source": [
    "import numpy as np\n",
    "import matplotlib.pyplot as plt\n",
    "import sympy as sym\n",
    "from mpl_toolkits.mplot3d import axes3d"
   ]
  },
  {
   "cell_type": "code",
   "execution_count": 4,
   "id": "2ba89c63",
   "metadata": {},
   "outputs": [
    {
     "data": {
      "text/latex": [
       "$\\displaystyle e^{- 0.5 x} \\sin{\\left(3 x \\right)}$"
      ],
      "text/plain": [
       "exp(-0.5*x)*sin(3*x)"
      ]
     },
     "execution_count": 4,
     "metadata": {},
     "output_type": "execute_result"
    }
   ],
   "source": [
    "x = sym.Symbol('x',real=True)\n",
    "y = sym.Symbol('y',real=True)\n",
    "\n",
    "_x = np.linspace(0,2*np.pi,100)\n",
    "_y = np.linspace(0,2*np.pi,100)\n",
    "\n",
    "F = sym.sin(3*x)*sym.exp(-0.5*x)\n",
    "F"
   ]
  },
  {
   "cell_type": "code",
   "execution_count": 5,
   "id": "8101d446",
   "metadata": {},
   "outputs": [
    {
     "data": {
      "text/plain": [
       "[<matplotlib.lines.Line2D at 0x28056169940>]"
      ]
     },
     "execution_count": 5,
     "metadata": {},
     "output_type": "execute_result"
    },
    {
     "data": {
      "image/png": "[encoded data removed]",
      "text/plain": [
       "<Figure size 432x288 with 1 Axes>"
      ]
     },
     "metadata": {
      "needs_background": "light"
     },
     "output_type": "display_data"
    }
   ],
   "source": [
    "f = sym.lambdify([x],F,'numpy')\n",
    "\n",
    "plt.plot(_x,f(_x))"
   ]
  },
  {
   "cell_type": "code",
   "execution_count": 6,
   "id": "8c4b071f",
   "metadata": {},
   "outputs": [
    {
     "name": "stdout",
     "output_type": "stream",
     "text": [
      "0.3852890693994773\n"
     ]
    }
   ],
   "source": [
    "I = sym.integrate(F,(x,0,3))\n",
    "I = float(I)\n",
    "print(I)"
   ]
  },
  {
   "cell_type": "code",
   "execution_count": 7,
   "id": "0f2f9aee",
   "metadata": {},
   "outputs": [
    {
     "data": {
      "text/latex": [
       "$\\displaystyle e^{- x^{2} - y^{2}}$"
      ],
      "text/plain": [
       "exp(-x**2 - y**2)"
      ]
     },
     "execution_count": 7,
     "metadata": {},
     "output_type": "execute_result"
    }
   ],
   "source": [
    "F2 = sym.exp( -(x**2+y**2) )\n",
    "F2"
   ]
  },
  {
   "cell_type": "code",
   "execution_count": 8,
   "id": "a7f18de1",
   "metadata": {},
   "outputs": [
    {
     "data": {
      "text/latex": [
       "$\\displaystyle 1024 \\left(1024 x^{20} - 97280 x^{18} + 3720960 x^{16} - 74419200 x^{14} + 846518400 x^{12} - 5587021440 x^{10} + 20951330400 x^{8} - 41902660800 x^{6} + 39283744500 x^{4} - 13094581500 x^{2} + 654729075\\right) e^{- x^{2} - y^{2}}$"
      ],
      "text/plain": [
       "1024*(1024*x**20 - 97280*x**18 + 3720960*x**16 - 74419200*x**14 + 846518400*x**12 - 5587021440*x**10 + 20951330400*x**8 - 41902660800*x**6 + 39283744500*x**4 - 13094581500*x**2 + 654729075)*exp(-x**2 - y**2)"
      ]
     },
     "execution_count": 8,
     "metadata": {},
     "output_type": "execute_result"
    }
   ],
   "source": [
    "DxF2 = sym.diff(F2,x,20)\n",
    "DxF2"
   ]
  },
  {
   "cell_type": "code",
   "execution_count": 9,
   "id": "e833c47b",
   "metadata": {},
   "outputs": [
    {
     "data": {
      "text/latex": [
       "$\\displaystyle \\pi$"
      ],
      "text/plain": [
       "pi"
      ]
     },
     "execution_count": 9,
     "metadata": {},
     "output_type": "execute_result"
    }
   ],
   "source": [
    "sym.integrate(F2, (x,-sym.oo,sym.oo),(y,-sym.oo,sym.oo))"
   ]
  },
  {
   "cell_type": "code",
   "execution_count": 11,
   "id": "105521b6",
   "metadata": {},
   "outputs": [],
   "source": [
    "Grid = sym.lambdify([x,y],F2,'numpy')\n",
    "\n",
    "_x = np.linspace(-2,2,100)\n",
    "_y = np.linspace(-2,2,100)\n",
    "\n",
    "X,Y = np.meshgrid(_x,_y)\n",
    "Z = Grid(X,Y)"
   ]
  },
  {
   "cell_type": "code",
   "execution_count": 12,
   "id": "0be14709",
   "metadata": {},
   "outputs": [
    {
     "data": {
      "text/plain": [
       "<mpl_toolkits.mplot3d.art3d.Poly3DCollection at 0x28057403940>"
      ]
     },
     "execution_count": 12,
     "metadata": {},
     "output_type": "execute_result"
    },
    {
     "data": {
      "image/png": "[encoded data removed]",
      "text/plain": [
       "<Figure size 432x288 with 2 Axes>"
      ]
     },
     "metadata": {
      "needs_background": "light"
     },
     "output_type": "display_data"
    }
   ],
   "source": [
    "fig = plt.figure()\n",
    "ax = fig.add_subplot(121,projection='3d')\n",
    "ax1 = fig.add_subplot(121)\n",
    "\n",
    "\n",
    "ax.plot_surface(X,Y,Z,cmap='coolwarm')"
   ]
  }
 ],
 "metadata": {
  "kernelspec": {
   "display_name": "Python 3 (ipykernel)",
   "language": "python",
   "name": "python3"
  },
  "language_info": {
   "codemirror_mode": {
    "name": "ipython",
    "version": 3
   },
   "file_extension": ".py",
   "mimetype": "text/x-python",
   "name": "python",
   "nbconvert_exporter": "python",
   "pygments_lexer": "ipython3",
   "version": "3.9.7"
  }
 },
 "nbformat": 4,
 "nbformat_minor": 5
}
